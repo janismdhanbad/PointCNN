{
 "cells": [
  {
   "cell_type": "code",
   "execution_count": 1,
   "metadata": {},
   "outputs": [],
   "source": [
    "import h5py\n",
    "import numpy as np"
   ]
  },
  {
   "cell_type": "code",
   "execution_count": 2,
   "metadata": {},
   "outputs": [],
   "source": [
    "f1 = h5py.File(\"/home/datumx/data_science_experiments/3D_data/data/S3DIS/prepare_label_rgb/Area_1/conferenceRoom_2/half_0_pred.h5\",'r')"
   ]
  },
  {
   "cell_type": "code",
   "execution_count": 6,
   "metadata": {},
   "outputs": [],
   "source": [
    "pred = np.loadtxt(\"/home/datumx/data_science_experiments/3D_data/data/S3DIS/prepare_label_rgb/Area_1/conferenceRoom_2/pred.npy\")"
   ]
  },
  {
   "cell_type": "code",
   "execution_count": 8,
   "metadata": {},
   "outputs": [
    {
     "data": {
      "text/plain": [
       "(1535040,)"
      ]
     },
     "execution_count": 8,
     "metadata": {},
     "output_type": "execute_result"
    }
   ],
   "source": [
    "pred.shape"
   ]
  },
  {
   "cell_type": "code",
   "execution_count": 12,
   "metadata": {},
   "outputs": [
    {
     "data": {
      "text/plain": [
       "_StoreAction(option_strings=['--datafolder', '-d'], dest='datafolder', nargs=None, const=None, default=None, type=None, choices=None, help='Path to input *_pred.h5', metavar=None)"
      ]
     },
     "execution_count": 12,
     "metadata": {},
     "output_type": "execute_result"
    }
   ],
   "source": [
    "parser = argparse.ArgumentParser()\n",
    "parser.add_argument('--datafolder', '-d', help='Path to input *_pred.h5', required=True)\n"
   ]
  },
  {
   "cell_type": "code",
   "execution_count": null,
   "metadata": {},
   "outputs": [],
   "source": []
  },
  {
   "cell_type": "code",
   "execution_count": 15,
   "metadata": {},
   "outputs": [
    {
     "name": "stdout",
     "output_type": "stream",
     "text": [
      "../data/S3DIS/prepare_label_rgb/Area_1/conferenceRoom_2/half_0_pred.h5\n",
      "../data/S3DIS/prepare_label_rgb/Area_1/conferenceRoom_2/zero_0_pred.h5\n",
      "../data/S3DIS/prepare_label_rgb/Area_1/conferenceRoom_1/half_0_pred.h5\n",
      "../data/S3DIS/prepare_label_rgb/Area_1/conferenceRoom_1/zero_0_pred.h5\n"
     ]
    },
    {
     "name": "stderr",
     "output_type": "stream",
     "text": [
      "/home/datumx/anaconda3/envs/tensorflow_p36/lib/python3.6/site-packages/ipykernel_launcher.py:33: H5pyDeprecationWarning: The default file mode will change to 'r' (read-only) in h5py 3.0. To suppress this warning, pass the mode you need to h5py.File(), or set the global default h5.get_config().default_file_mode, or set the environment variable H5PY_DEFAULT_READONLY=1. Available modes are: 'r', 'r+', 'w', 'w-'/'x', 'a'. See the docs for details.\n"
     ]
    }
   ],
   "source": [
    "\n",
    "\n",
    "from __future__ import absolute_import\n",
    "from __future__ import division\n",
    "from __future__ import print_function\n",
    "\n",
    "import os,sys\n",
    "import plyfile\n",
    "import numpy as np\n",
    "import argparse\n",
    "import h5py\n",
    "\n",
    "\n",
    "\n",
    "\n",
    "datafolder = \"../data/S3DIS/prepare_label_rgb/Area_1/\"\n",
    "categories_list = os.listdir(datafolder)\n",
    "\n",
    "for category in categories_list:\n",
    "    output_path = os.path.join(datafolder,category,\"pred.npy\")\n",
    "    label_length = np.load(os.path.join(datafolder,category,\"label.npy\")).shape[0]\n",
    "\n",
    "    merged_label_zero = np.zeros((label_length),dtype=int)\n",
    "    merged_confidence_zero = np.zeros((label_length),dtype=float)\n",
    "    merged_label_half = np.zeros((label_length), dtype=int)\n",
    "    merged_confidence_half = np.zeros((label_length), dtype=float)\n",
    "    #merged_label = np.zeros((label_length,2))\n",
    "\n",
    "    final_label = np.zeros((label_length), dtype=int)\n",
    "    pred_list = [pred for pred in os.listdir(os.path.join(datafolder,category)) if pred.split(\".\")[-1] == \"h5\" and \"pred\" in pred]\n",
    "    for pred_file in pred_list:\n",
    "        print(os.path.join(datafolder,category, pred_file))\n",
    "        data = h5py.File(os.path.join(datafolder,category, pred_file))\n",
    "        labels_seg = data['label_seg'][...].astype(np.int64)\n",
    "        indices = data['indices_split_to_full'][...].astype(np.int64)\n",
    "        confidence = data['confidence'][...].astype(np.float32)\n",
    "        data_num = data['data_num'][...].astype(np.int64)\n",
    "\n",
    "        if 'zero' in pred_file:\n",
    "            for i in range(labels_seg.shape[0]):\n",
    "                merged_label_zero[indices[i][:data_num[i]]] = labels_seg[i][:data_num[i]]\n",
    "                merged_confidence_zero[indices[i][:data_num[i]]] = confidence[i][:data_num[i]]\n",
    "        else:\n",
    "            for i in range(labels_seg.shape[0]):\n",
    "                merged_label_half[indices[i][:data_num[i]]] = labels_seg[i][:data_num[i]]\n",
    "                merged_confidence_half[indices[i][:data_num[i]]] = confidence[i][:data_num[i]]\n",
    "\n",
    "    final_label[merged_confidence_zero >= merged_confidence_half] = merged_label_zero[merged_confidence_zero >= merged_confidence_half]\n",
    "    final_label[merged_confidence_zero < merged_confidence_half] = merged_label_half[merged_confidence_zero < merged_confidence_half]\n",
    "\n",
    "#     np.savetxt(output_path,final_label,fmt='%d')\n",
    "#     print(\"saved to \",output_path)\n",
    "\n",
    "\n"
   ]
  },
  {
   "cell_type": "code",
   "execution_count": 19,
   "metadata": {},
   "outputs": [
    {
     "data": {
      "text/plain": [
       "(1136617, 1)"
      ]
     },
     "execution_count": 19,
     "metadata": {},
     "output_type": "execute_result"
    }
   ],
   "source": [
    "np.load(os.path.join(datafolder,category,\"label.npy\")).shape"
   ]
  },
  {
   "cell_type": "code",
   "execution_count": 18,
   "metadata": {},
   "outputs": [
    {
     "data": {
      "text/plain": [
       "(1136617,)"
      ]
     },
     "execution_count": 18,
     "metadata": {},
     "output_type": "execute_result"
    }
   ],
   "source": [
    "final_label.shape"
   ]
  },
  {
   "cell_type": "code",
   "execution_count": 17,
   "metadata": {},
   "outputs": [
    {
     "data": {
      "text/plain": [
       "(165, 8192)"
      ]
     },
     "execution_count": 17,
     "metadata": {},
     "output_type": "execute_result"
    }
   ],
   "source": [
    "labels_seg.shape"
   ]
  }
 ],
 "metadata": {
  "kernelspec": {
   "display_name": "tensorflow_p36",
   "language": "python",
   "name": "tensorflow_p36"
  },
  "language_info": {
   "codemirror_mode": {
    "name": "ipython",
    "version": 3
   },
   "file_extension": ".py",
   "mimetype": "text/x-python",
   "name": "python",
   "nbconvert_exporter": "python",
   "pygments_lexer": "ipython3",
   "version": "3.6.8"
  }
 },
 "nbformat": 4,
 "nbformat_minor": 2
}
